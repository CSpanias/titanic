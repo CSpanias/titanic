{
 "cells": [
  {
   "cell_type": "markdown",
   "metadata": {},
   "source": [
    "# CONTENT\n",
    "1. [Exploratory Data Analysis](#EDA)\n",
    "2. [Data Cleaning](#DataCleaning)\n",
    "3. [Hyperparameter Optimization](#GS)"
   ]
  },
  {
   "cell_type": "code",
   "execution_count": 1,
   "metadata": {},
   "outputs": [],
   "source": [
    "import pandas as pd\n",
    "import numpy as np"
   ]
  },
  {
   "cell_type": "code",
   "execution_count": 2,
   "metadata": {
    "execution": {
     "iopub.execute_input": "2021-12-26T12:04:41.975808Z",
     "iopub.status.busy": "2021-12-26T12:04:41.975533Z",
     "iopub.status.idle": "2021-12-26T12:04:42.004333Z",
     "shell.execute_reply": "2021-12-26T12:04:42.003495Z",
     "shell.execute_reply.started": "2021-12-26T12:04:41.975781Z"
    }
   },
   "outputs": [],
   "source": [
    "# assign testing data\n",
    "test_data = pd.read_csv(\"test.csv\")\n",
    "# assign training data to a pandas DataFrame\n",
    "train_data = pd.read_csv(\"train.csv\")"
   ]
  },
  {
   "cell_type": "code",
   "execution_count": 3,
   "metadata": {
    "execution": {
     "iopub.execute_input": "2021-12-25T23:08:13.551834Z",
     "iopub.status.busy": "2021-12-25T23:08:13.55123Z",
     "iopub.status.idle": "2021-12-25T23:08:13.56163Z",
     "shell.execute_reply": "2021-12-25T23:08:13.56038Z",
     "shell.execute_reply.started": "2021-12-25T23:08:13.5518Z"
    }
   },
   "outputs": [],
   "source": [
    "# # split features and label\n",
    "# X = train_data.drop(columns='Survived', axis=1)\n",
    "# y = train_data['Survived']\n",
    "\n",
    "# X_test = test_data\n",
    "\n",
    "# # check shape\n",
    "# X.shape, X_test.shape, y.shape"
   ]
  },
  {
   "cell_type": "markdown",
   "metadata": {},
   "source": [
    "<a name=\"EDA\"> </a>\n",
    "# Exploratory Data Analysis"
   ]
  },
  {
   "cell_type": "code",
   "execution_count": 4,
   "metadata": {
    "execution": {
     "iopub.execute_input": "2021-12-26T12:05:51.188234Z",
     "iopub.status.busy": "2021-12-26T12:05:51.187514Z",
     "iopub.status.idle": "2021-12-26T12:05:51.207929Z",
     "shell.execute_reply": "2021-12-26T12:05:51.206621Z",
     "shell.execute_reply.started": "2021-12-26T12:05:51.188190Z"
    }
   },
   "outputs": [
    {
     "data": {
      "text/html": [
       "<div>\n",
       "<style scoped>\n",
       "    .dataframe tbody tr th:only-of-type {\n",
       "        vertical-align: middle;\n",
       "    }\n",
       "\n",
       "    .dataframe tbody tr th {\n",
       "        vertical-align: top;\n",
       "    }\n",
       "\n",
       "    .dataframe thead th {\n",
       "        text-align: right;\n",
       "    }\n",
       "</style>\n",
       "<table border=\"1\" class=\"dataframe\">\n",
       "  <thead>\n",
       "    <tr style=\"text-align: right;\">\n",
       "      <th></th>\n",
       "      <th>PassengerId</th>\n",
       "      <th>Survived</th>\n",
       "      <th>Pclass</th>\n",
       "      <th>Name</th>\n",
       "      <th>Sex</th>\n",
       "      <th>Age</th>\n",
       "      <th>SibSp</th>\n",
       "      <th>Parch</th>\n",
       "      <th>Ticket</th>\n",
       "      <th>Fare</th>\n",
       "      <th>Cabin</th>\n",
       "      <th>Embarked</th>\n",
       "    </tr>\n",
       "  </thead>\n",
       "  <tbody>\n",
       "    <tr>\n",
       "      <th>0</th>\n",
       "      <td>1</td>\n",
       "      <td>0</td>\n",
       "      <td>3</td>\n",
       "      <td>Braund, Mr. Owen Harris</td>\n",
       "      <td>male</td>\n",
       "      <td>22.0</td>\n",
       "      <td>1</td>\n",
       "      <td>0</td>\n",
       "      <td>A/5 21171</td>\n",
       "      <td>7.2500</td>\n",
       "      <td>NaN</td>\n",
       "      <td>S</td>\n",
       "    </tr>\n",
       "    <tr>\n",
       "      <th>1</th>\n",
       "      <td>2</td>\n",
       "      <td>1</td>\n",
       "      <td>1</td>\n",
       "      <td>Cumings, Mrs. John Bradley (Florence Briggs Th...</td>\n",
       "      <td>female</td>\n",
       "      <td>38.0</td>\n",
       "      <td>1</td>\n",
       "      <td>0</td>\n",
       "      <td>PC 17599</td>\n",
       "      <td>71.2833</td>\n",
       "      <td>C85</td>\n",
       "      <td>C</td>\n",
       "    </tr>\n",
       "    <tr>\n",
       "      <th>2</th>\n",
       "      <td>3</td>\n",
       "      <td>1</td>\n",
       "      <td>3</td>\n",
       "      <td>Heikkinen, Miss. Laina</td>\n",
       "      <td>female</td>\n",
       "      <td>26.0</td>\n",
       "      <td>0</td>\n",
       "      <td>0</td>\n",
       "      <td>STON/O2. 3101282</td>\n",
       "      <td>7.9250</td>\n",
       "      <td>NaN</td>\n",
       "      <td>S</td>\n",
       "    </tr>\n",
       "    <tr>\n",
       "      <th>3</th>\n",
       "      <td>4</td>\n",
       "      <td>1</td>\n",
       "      <td>1</td>\n",
       "      <td>Futrelle, Mrs. Jacques Heath (Lily May Peel)</td>\n",
       "      <td>female</td>\n",
       "      <td>35.0</td>\n",
       "      <td>1</td>\n",
       "      <td>0</td>\n",
       "      <td>113803</td>\n",
       "      <td>53.1000</td>\n",
       "      <td>C123</td>\n",
       "      <td>S</td>\n",
       "    </tr>\n",
       "    <tr>\n",
       "      <th>4</th>\n",
       "      <td>5</td>\n",
       "      <td>0</td>\n",
       "      <td>3</td>\n",
       "      <td>Allen, Mr. William Henry</td>\n",
       "      <td>male</td>\n",
       "      <td>35.0</td>\n",
       "      <td>0</td>\n",
       "      <td>0</td>\n",
       "      <td>373450</td>\n",
       "      <td>8.0500</td>\n",
       "      <td>NaN</td>\n",
       "      <td>S</td>\n",
       "    </tr>\n",
       "  </tbody>\n",
       "</table>\n",
       "</div>"
      ],
      "text/plain": [
       "   PassengerId  Survived  Pclass  \\\n",
       "0            1         0       3   \n",
       "1            2         1       1   \n",
       "2            3         1       3   \n",
       "3            4         1       1   \n",
       "4            5         0       3   \n",
       "\n",
       "                                                Name     Sex   Age  SibSp  \\\n",
       "0                            Braund, Mr. Owen Harris    male  22.0      1   \n",
       "1  Cumings, Mrs. John Bradley (Florence Briggs Th...  female  38.0      1   \n",
       "2                             Heikkinen, Miss. Laina  female  26.0      0   \n",
       "3       Futrelle, Mrs. Jacques Heath (Lily May Peel)  female  35.0      1   \n",
       "4                           Allen, Mr. William Henry    male  35.0      0   \n",
       "\n",
       "   Parch            Ticket     Fare Cabin Embarked  \n",
       "0      0         A/5 21171   7.2500   NaN        S  \n",
       "1      0          PC 17599  71.2833   C85        C  \n",
       "2      0  STON/O2. 3101282   7.9250   NaN        S  \n",
       "3      0            113803  53.1000  C123        S  \n",
       "4      0            373450   8.0500   NaN        S  "
      ]
     },
     "execution_count": 4,
     "metadata": {},
     "output_type": "execute_result"
    }
   ],
   "source": [
    "# print the first 5 rows of the data\n",
    "train_data.head()"
   ]
  },
  {
   "cell_type": "markdown",
   "metadata": {},
   "source": [
    "**Note**: \n",
    "1. Features *Name*, *Sex*, *Ticket*, *Cabin*, *Embarked* are of type **object** which will have to address via **OneHot** or **Ordinal Encoding**.\n",
    "2. Features have **different scales** which will have to address via **Standardization**.\n",
    "3. Features *Age* and *Cabin* have missing values which will have to address via removing the specific rows, the whole column, or fill the NaN with a specified value (e.g. mean, median, mode)."
   ]
  },
  {
   "cell_type": "code",
   "execution_count": 5,
   "metadata": {
    "execution": {
     "iopub.execute_input": "2021-12-26T12:07:02.738542Z",
     "iopub.status.busy": "2021-12-26T12:07:02.738229Z",
     "iopub.status.idle": "2021-12-26T12:07:02.750431Z",
     "shell.execute_reply": "2021-12-26T12:07:02.749879Z",
     "shell.execute_reply.started": "2021-12-26T12:07:02.738514Z"
    }
   },
   "outputs": [],
   "source": [
    "# set PassengerId as the index column\n",
    "train_data = train_data.set_index(\"PassengerId\")\n",
    "test_data = test_data.set_index(\"PassengerId\")"
   ]
  },
  {
   "cell_type": "code",
   "execution_count": 6,
   "metadata": {
    "execution": {
     "iopub.execute_input": "2021-12-26T12:07:21.353948Z",
     "iopub.status.busy": "2021-12-26T12:07:21.353356Z",
     "iopub.status.idle": "2021-12-26T12:07:21.372381Z",
     "shell.execute_reply": "2021-12-26T12:07:21.371606Z",
     "shell.execute_reply.started": "2021-12-26T12:07:21.353899Z"
    }
   },
   "outputs": [
    {
     "name": "stdout",
     "output_type": "stream",
     "text": [
      "<class 'pandas.core.frame.DataFrame'>\n",
      "Int64Index: 891 entries, 1 to 891\n",
      "Data columns (total 11 columns):\n",
      " #   Column    Non-Null Count  Dtype  \n",
      "---  ------    --------------  -----  \n",
      " 0   Survived  891 non-null    int64  \n",
      " 1   Pclass    891 non-null    int64  \n",
      " 2   Name      891 non-null    object \n",
      " 3   Sex       891 non-null    object \n",
      " 4   Age       714 non-null    float64\n",
      " 5   SibSp     891 non-null    int64  \n",
      " 6   Parch     891 non-null    int64  \n",
      " 7   Ticket    891 non-null    object \n",
      " 8   Fare      891 non-null    float64\n",
      " 9   Cabin     204 non-null    object \n",
      " 10  Embarked  889 non-null    object \n",
      "dtypes: float64(2), int64(4), object(5)\n",
      "memory usage: 83.5+ KB\n"
     ]
    }
   ],
   "source": [
    "# print some basic information per column\n",
    "train_data.info()"
   ]
  },
  {
   "cell_type": "markdown",
   "metadata": {
    "execution": {
     "iopub.execute_input": "2021-12-25T20:25:22.025661Z",
     "iopub.status.busy": "2021-12-25T20:25:22.024345Z",
     "iopub.status.idle": "2021-12-25T20:25:22.031198Z",
     "shell.execute_reply": "2021-12-25T20:25:22.030229Z",
     "shell.execute_reply.started": "2021-12-25T20:25:22.025576Z"
    }
   },
   "source": [
    "**Note**:\n",
    "1. **Cabin** has only 204 out of 891 instances. It might be better to remove the column as a whole.\n",
    "2. We have a fairly **small dataset** (891 rows x 12 columns) which will influence our algorithm's choice."
   ]
  },
  {
   "cell_type": "code",
   "execution_count": 7,
   "metadata": {
    "execution": {
     "iopub.execute_input": "2021-12-26T12:08:13.728489Z",
     "iopub.status.busy": "2021-12-26T12:08:13.728008Z",
     "iopub.status.idle": "2021-12-26T12:08:13.736161Z",
     "shell.execute_reply": "2021-12-26T12:08:13.735286Z",
     "shell.execute_reply.started": "2021-12-26T12:08:13.728443Z"
    }
   },
   "outputs": [
    {
     "data": {
      "text/plain": [
       "S    644\n",
       "C    168\n",
       "Q     77\n",
       "Name: Embarked, dtype: int64"
      ]
     },
     "execution_count": 7,
     "metadata": {},
     "output_type": "execute_result"
    }
   ],
   "source": [
    "# check how many unique instances we have in the embarked feature\n",
    "train_data['Embarked'].value_counts()"
   ]
  },
  {
   "cell_type": "code",
   "execution_count": 8,
   "metadata": {
    "execution": {
     "iopub.execute_input": "2021-12-26T12:08:16.882010Z",
     "iopub.status.busy": "2021-12-26T12:08:16.881529Z",
     "iopub.status.idle": "2021-12-26T12:08:16.889270Z",
     "shell.execute_reply": "2021-12-26T12:08:16.888396Z",
     "shell.execute_reply.started": "2021-12-26T12:08:16.881957Z"
    }
   },
   "outputs": [
    {
     "data": {
      "text/plain": [
       "3    491\n",
       "1    216\n",
       "2    184\n",
       "Name: Pclass, dtype: int64"
      ]
     },
     "execution_count": 8,
     "metadata": {},
     "output_type": "execute_result"
    }
   ],
   "source": [
    "# check the same as above for Pclass\n",
    "train_data['Pclass'].value_counts()"
   ]
  },
  {
   "cell_type": "code",
   "execution_count": 9,
   "metadata": {
    "execution": {
     "iopub.execute_input": "2021-12-26T12:08:27.398293Z",
     "iopub.status.busy": "2021-12-26T12:08:27.398010Z",
     "iopub.status.idle": "2021-12-26T12:08:27.406010Z",
     "shell.execute_reply": "2021-12-26T12:08:27.405455Z",
     "shell.execute_reply.started": "2021-12-26T12:08:27.398262Z"
    }
   },
   "outputs": [
    {
     "name": "stdout",
     "output_type": "stream",
     "text": [
      "Proportion of men: 64.76%\n",
      "Proportion of women: 35.24%\n"
     ]
    }
   ],
   "source": [
    "# check the proportion for the Sex variable\n",
    "\n",
    "# calculate the total number of passengers\n",
    "total = train_data['Sex'].value_counts().sum()\n",
    "# calculate the proportion of men\n",
    "men = (train_data['Sex'].value_counts()[0] / total) *100 \n",
    "\n",
    "# print the proportion of men to 2 decimal places\n",
    "print(\"Proportion of men: {:.2f}%\".format(men, 2))\n",
    "# calculate and print the proportion of women to 2 decimal places\n",
    "print(\"Proportion of women: {:.2f}%\".format(100-men))"
   ]
  },
  {
   "cell_type": "code",
   "execution_count": 10,
   "metadata": {
    "execution": {
     "iopub.execute_input": "2021-12-26T12:08:33.754217Z",
     "iopub.status.busy": "2021-12-26T12:08:33.753928Z",
     "iopub.status.idle": "2021-12-26T12:08:33.784382Z",
     "shell.execute_reply": "2021-12-26T12:08:33.783609Z",
     "shell.execute_reply.started": "2021-12-26T12:08:33.754183Z"
    }
   },
   "outputs": [
    {
     "data": {
      "text/html": [
       "<div>\n",
       "<style scoped>\n",
       "    .dataframe tbody tr th:only-of-type {\n",
       "        vertical-align: middle;\n",
       "    }\n",
       "\n",
       "    .dataframe tbody tr th {\n",
       "        vertical-align: top;\n",
       "    }\n",
       "\n",
       "    .dataframe thead th {\n",
       "        text-align: right;\n",
       "    }\n",
       "</style>\n",
       "<table border=\"1\" class=\"dataframe\">\n",
       "  <thead>\n",
       "    <tr style=\"text-align: right;\">\n",
       "      <th></th>\n",
       "      <th>Survived</th>\n",
       "      <th>Pclass</th>\n",
       "      <th>Age</th>\n",
       "      <th>SibSp</th>\n",
       "      <th>Parch</th>\n",
       "      <th>Fare</th>\n",
       "    </tr>\n",
       "  </thead>\n",
       "  <tbody>\n",
       "    <tr>\n",
       "      <th>count</th>\n",
       "      <td>891.000000</td>\n",
       "      <td>891.000000</td>\n",
       "      <td>714.000000</td>\n",
       "      <td>891.000000</td>\n",
       "      <td>891.000000</td>\n",
       "      <td>891.000000</td>\n",
       "    </tr>\n",
       "    <tr>\n",
       "      <th>mean</th>\n",
       "      <td>0.383838</td>\n",
       "      <td>2.308642</td>\n",
       "      <td>29.699118</td>\n",
       "      <td>0.523008</td>\n",
       "      <td>0.381594</td>\n",
       "      <td>32.204208</td>\n",
       "    </tr>\n",
       "    <tr>\n",
       "      <th>std</th>\n",
       "      <td>0.486592</td>\n",
       "      <td>0.836071</td>\n",
       "      <td>14.526497</td>\n",
       "      <td>1.102743</td>\n",
       "      <td>0.806057</td>\n",
       "      <td>49.693429</td>\n",
       "    </tr>\n",
       "    <tr>\n",
       "      <th>min</th>\n",
       "      <td>0.000000</td>\n",
       "      <td>1.000000</td>\n",
       "      <td>0.420000</td>\n",
       "      <td>0.000000</td>\n",
       "      <td>0.000000</td>\n",
       "      <td>0.000000</td>\n",
       "    </tr>\n",
       "    <tr>\n",
       "      <th>25%</th>\n",
       "      <td>0.000000</td>\n",
       "      <td>2.000000</td>\n",
       "      <td>20.125000</td>\n",
       "      <td>0.000000</td>\n",
       "      <td>0.000000</td>\n",
       "      <td>7.910400</td>\n",
       "    </tr>\n",
       "    <tr>\n",
       "      <th>50%</th>\n",
       "      <td>0.000000</td>\n",
       "      <td>3.000000</td>\n",
       "      <td>28.000000</td>\n",
       "      <td>0.000000</td>\n",
       "      <td>0.000000</td>\n",
       "      <td>14.454200</td>\n",
       "    </tr>\n",
       "    <tr>\n",
       "      <th>75%</th>\n",
       "      <td>1.000000</td>\n",
       "      <td>3.000000</td>\n",
       "      <td>38.000000</td>\n",
       "      <td>1.000000</td>\n",
       "      <td>0.000000</td>\n",
       "      <td>31.000000</td>\n",
       "    </tr>\n",
       "    <tr>\n",
       "      <th>max</th>\n",
       "      <td>1.000000</td>\n",
       "      <td>3.000000</td>\n",
       "      <td>80.000000</td>\n",
       "      <td>8.000000</td>\n",
       "      <td>6.000000</td>\n",
       "      <td>512.329200</td>\n",
       "    </tr>\n",
       "  </tbody>\n",
       "</table>\n",
       "</div>"
      ],
      "text/plain": [
       "         Survived      Pclass         Age       SibSp       Parch        Fare\n",
       "count  891.000000  891.000000  714.000000  891.000000  891.000000  891.000000\n",
       "mean     0.383838    2.308642   29.699118    0.523008    0.381594   32.204208\n",
       "std      0.486592    0.836071   14.526497    1.102743    0.806057   49.693429\n",
       "min      0.000000    1.000000    0.420000    0.000000    0.000000    0.000000\n",
       "25%      0.000000    2.000000   20.125000    0.000000    0.000000    7.910400\n",
       "50%      0.000000    3.000000   28.000000    0.000000    0.000000   14.454200\n",
       "75%      1.000000    3.000000   38.000000    1.000000    0.000000   31.000000\n",
       "max      1.000000    3.000000   80.000000    8.000000    6.000000  512.329200"
      ]
     },
     "execution_count": 10,
     "metadata": {},
     "output_type": "execute_result"
    }
   ],
   "source": [
    "# print a statistical summary of the numerical variables\n",
    "train_data.describe()"
   ]
  },
  {
   "cell_type": "code",
   "execution_count": 11,
   "metadata": {
    "execution": {
     "iopub.execute_input": "2021-12-26T12:09:00.326623Z",
     "iopub.status.busy": "2021-12-26T12:09:00.326331Z",
     "iopub.status.idle": "2021-12-26T12:09:02.043982Z",
     "shell.execute_reply": "2021-12-26T12:09:02.043364Z",
     "shell.execute_reply.started": "2021-12-26T12:09:00.326584Z"
    }
   },
   "outputs": [
    {
     "data": {
      "text/plain": [
       "array([[<AxesSubplot:title={'center':'Survived'}>,\n",
       "        <AxesSubplot:title={'center':'Pclass'}>],\n",
       "       [<AxesSubplot:title={'center':'Age'}>,\n",
       "        <AxesSubplot:title={'center':'Fare'}>],\n",
       "       [<AxesSubplot:title={'center':'SibSp'}>,\n",
       "        <AxesSubplot:title={'center':'Parch'}>]], dtype=object)"
      ]
     },
     "execution_count": 11,
     "metadata": {},
     "output_type": "execute_result"
    },
    {
     "data": {
      "image/png": "[encoded data removed]",
      "text/plain": [
       "<Figure size 1440x1080 with 6 Axes>"
      ]
     },
     "metadata": {
      "needs_background": "light"
     },
     "output_type": "display_data"
    }
   ],
   "source": [
    "# visualize variables with histograms to aid in pattern recognition\n",
    "%matplotlib inline\n",
    "import matplotlib.pyplot as plt\n",
    "train_data[['Survived', 'Pclass', 'Age', 'Fare', 'SibSp', 'Parch']].hist(bins=50, figsize=(20, 15))"
   ]
  },
  {
   "cell_type": "code",
   "execution_count": 45,
   "metadata": {
    "execution": {
     "iopub.execute_input": "2021-12-26T12:09:09.812690Z",
     "iopub.status.busy": "2021-12-26T12:09:09.811838Z",
     "iopub.status.idle": "2021-12-26T12:09:09.822867Z",
     "shell.execute_reply": "2021-12-26T12:09:09.822051Z",
     "shell.execute_reply.started": "2021-12-26T12:09:09.812641Z"
    }
   },
   "outputs": [
    {
     "data": {
      "text/plain": [
       "Survived            1.000000\n",
       "Fare                0.257307\n",
       "Parch               0.081629\n",
       "RelativesOnboard    0.016639\n",
       "SibSp              -0.035322\n",
       "Age                -0.077221\n",
       "Pclass             -0.338481\n",
       "Name: Survived, dtype: float64"
      ]
     },
     "execution_count": 45,
     "metadata": {},
     "output_type": "execute_result"
    }
   ],
   "source": [
    "# checking correlations\n",
    "corr_matrix = train_data.corr()\n",
    "\n",
    "# check the relationship of the attributes with the target\n",
    "corr_matrix[\"Survived\"].sort_values(ascending=False)"
   ]
  },
  {
   "cell_type": "code",
   "execution_count": 13,
   "metadata": {
    "execution": {
     "iopub.execute_input": "2021-12-26T12:09:16.221394Z",
     "iopub.status.busy": "2021-12-26T12:09:16.221113Z",
     "iopub.status.idle": "2021-12-26T12:09:16.235581Z",
     "shell.execute_reply": "2021-12-26T12:09:16.234943Z",
     "shell.execute_reply.started": "2021-12-26T12:09:16.221361Z"
    }
   },
   "outputs": [
    {
     "data": {
      "text/html": [
       "<div>\n",
       "<style scoped>\n",
       "    .dataframe tbody tr th:only-of-type {\n",
       "        vertical-align: middle;\n",
       "    }\n",
       "\n",
       "    .dataframe tbody tr th {\n",
       "        vertical-align: top;\n",
       "    }\n",
       "\n",
       "    .dataframe thead th {\n",
       "        text-align: right;\n",
       "    }\n",
       "</style>\n",
       "<table border=\"1\" class=\"dataframe\">\n",
       "  <thead>\n",
       "    <tr style=\"text-align: right;\">\n",
       "      <th></th>\n",
       "      <th>Survived</th>\n",
       "      <th>Pclass</th>\n",
       "      <th>Age</th>\n",
       "      <th>SibSp</th>\n",
       "      <th>Parch</th>\n",
       "      <th>Fare</th>\n",
       "    </tr>\n",
       "  </thead>\n",
       "  <tbody>\n",
       "    <tr>\n",
       "      <th>Survived</th>\n",
       "      <td>1.000000</td>\n",
       "      <td>-0.338481</td>\n",
       "      <td>-0.077221</td>\n",
       "      <td>-0.035322</td>\n",
       "      <td>0.081629</td>\n",
       "      <td>0.257307</td>\n",
       "    </tr>\n",
       "    <tr>\n",
       "      <th>Pclass</th>\n",
       "      <td>-0.338481</td>\n",
       "      <td>1.000000</td>\n",
       "      <td>-0.369226</td>\n",
       "      <td>0.083081</td>\n",
       "      <td>0.018443</td>\n",
       "      <td>-0.549500</td>\n",
       "    </tr>\n",
       "    <tr>\n",
       "      <th>Age</th>\n",
       "      <td>-0.077221</td>\n",
       "      <td>-0.369226</td>\n",
       "      <td>1.000000</td>\n",
       "      <td>-0.308247</td>\n",
       "      <td>-0.189119</td>\n",
       "      <td>0.096067</td>\n",
       "    </tr>\n",
       "    <tr>\n",
       "      <th>SibSp</th>\n",
       "      <td>-0.035322</td>\n",
       "      <td>0.083081</td>\n",
       "      <td>-0.308247</td>\n",
       "      <td>1.000000</td>\n",
       "      <td>0.414838</td>\n",
       "      <td>0.159651</td>\n",
       "    </tr>\n",
       "    <tr>\n",
       "      <th>Parch</th>\n",
       "      <td>0.081629</td>\n",
       "      <td>0.018443</td>\n",
       "      <td>-0.189119</td>\n",
       "      <td>0.414838</td>\n",
       "      <td>1.000000</td>\n",
       "      <td>0.216225</td>\n",
       "    </tr>\n",
       "    <tr>\n",
       "      <th>Fare</th>\n",
       "      <td>0.257307</td>\n",
       "      <td>-0.549500</td>\n",
       "      <td>0.096067</td>\n",
       "      <td>0.159651</td>\n",
       "      <td>0.216225</td>\n",
       "      <td>1.000000</td>\n",
       "    </tr>\n",
       "  </tbody>\n",
       "</table>\n",
       "</div>"
      ],
      "text/plain": [
       "          Survived    Pclass       Age     SibSp     Parch      Fare\n",
       "Survived  1.000000 -0.338481 -0.077221 -0.035322  0.081629  0.257307\n",
       "Pclass   -0.338481  1.000000 -0.369226  0.083081  0.018443 -0.549500\n",
       "Age      -0.077221 -0.369226  1.000000 -0.308247 -0.189119  0.096067\n",
       "SibSp    -0.035322  0.083081 -0.308247  1.000000  0.414838  0.159651\n",
       "Parch     0.081629  0.018443 -0.189119  0.414838  1.000000  0.216225\n",
       "Fare      0.257307 -0.549500  0.096067  0.159651  0.216225  1.000000"
      ]
     },
     "execution_count": 13,
     "metadata": {},
     "output_type": "execute_result"
    }
   ],
   "source": [
    "# print a correlation table\n",
    "train_data.corr()"
   ]
  },
  {
   "cell_type": "code",
   "execution_count": 14,
   "metadata": {
    "execution": {
     "iopub.execute_input": "2021-12-26T12:09:18.894930Z",
     "iopub.status.busy": "2021-12-26T12:09:18.894155Z",
     "iopub.status.idle": "2021-12-26T12:09:20.204656Z",
     "shell.execute_reply": "2021-12-26T12:09:20.203891Z",
     "shell.execute_reply.started": "2021-12-26T12:09:18.894879Z"
    }
   },
   "outputs": [
    {
     "data": {
      "text/plain": [
       "<AxesSubplot:>"
      ]
     },
     "execution_count": 14,
     "metadata": {},
     "output_type": "execute_result"
    },
    {
     "data": {
      "image/png": "[encoded data removed]",
      "text/plain": [
       "<Figure size 720x576 with 2 Axes>"
      ]
     },
     "metadata": {},
     "output_type": "display_data"
    }
   ],
   "source": [
    "# visualize the corr_matrix as a heatmap\n",
    "import seaborn as sns\n",
    "\n",
    "# set figure size\n",
    "sns.set(rc={'figure.figsize':(10,8)})\n",
    "# generate a heatmap\n",
    "sns.heatmap(corr_matrix, annot=True,cmap='coolwarm')"
   ]
  },
  {
   "cell_type": "markdown",
   "metadata": {},
   "source": [
    "**Note**:\n",
    "1. From the correlation matrix and/or heatmap above we can see that there is no **multi-collinearity** (= high relationship between pairs of independent variables), which is good.\n",
    "2. As expected *PassengerID* has **no linear relationship with the target variable**.\n",
    "3. Features *SibSp*, *Age*, *Parch* have **very low linear relationship with the target variable**."
   ]
  },
  {
   "cell_type": "markdown",
   "metadata": {},
   "source": [
    "<a name=\"DataCleaning\"> </a>\n",
    "# Data Cleaning\n",
    "\n",
    "We will try to address our observations so far:\n",
    "\n",
    "1. Missing values, duplicated rows & low relationship features\n",
    "3. Categorical Variables\n",
    "4. Feature Scaling"
   ]
  },
  {
   "cell_type": "markdown",
   "metadata": {},
   "source": [
    "## Missing values, duplicated rows & low relationship features"
   ]
  },
  {
   "cell_type": "code",
   "execution_count": 15,
   "metadata": {
    "execution": {
     "iopub.execute_input": "2021-12-25T23:08:17.238248Z",
     "iopub.status.busy": "2021-12-25T23:08:17.23797Z",
     "iopub.status.idle": "2021-12-25T23:08:17.249093Z",
     "shell.execute_reply": "2021-12-25T23:08:17.248397Z",
     "shell.execute_reply.started": "2021-12-25T23:08:17.238214Z"
    }
   },
   "outputs": [
    {
     "data": {
      "text/plain": [
       "Survived      0\n",
       "Pclass        0\n",
       "Name          0\n",
       "Sex           0\n",
       "Age         177\n",
       "SibSp         0\n",
       "Parch         0\n",
       "Ticket        0\n",
       "Fare          0\n",
       "Cabin       687\n",
       "Embarked      2\n",
       "dtype: int64"
      ]
     },
     "execution_count": 15,
     "metadata": {},
     "output_type": "execute_result"
    }
   ],
   "source": [
    "# check missing values per column\n",
    "train_data.isna().sum()"
   ]
  },
  {
   "cell_type": "code",
   "execution_count": 18,
   "metadata": {
    "execution": {
     "iopub.execute_input": "2021-12-25T23:08:17.275476Z",
     "iopub.status.busy": "2021-12-25T23:08:17.27513Z",
     "iopub.status.idle": "2021-12-25T23:08:17.283339Z",
     "shell.execute_reply": "2021-12-25T23:08:17.282432Z",
     "shell.execute_reply.started": "2021-12-25T23:08:17.275446Z"
    }
   },
   "outputs": [
    {
     "data": {
      "text/plain": [
       "0"
      ]
     },
     "execution_count": 18,
     "metadata": {},
     "output_type": "execute_result"
    }
   ],
   "source": [
    "# check for duplicate rows\n",
    "train_data.duplicated().sum()"
   ]
  },
  {
   "cell_type": "markdown",
   "metadata": {},
   "source": [
    "## Feature Scaling"
   ]
  },
  {
   "cell_type": "markdown",
   "metadata": {},
   "source": [
    "**Note**:\n",
    "We will need to convert these categorical variables into numerical format. Usually we do it via the use of:\n",
    "1. **Ordinal Encoding**\n",
    "2. **One-Hot Encoding**\n",
    "\n",
    "The former makes the assumption that two nearby values are more similar than two distant values, which does not fit in this case. Hence, we will use the latter method."
   ]
  },
  {
   "cell_type": "markdown",
   "metadata": {},
   "source": [
    "Create a **Pipeline for the numerical variables**:\n",
    "1. Replace missing values with the mean.\n",
    "2. Standardize the values.\n",
    "\n",
    "Create a **Pipeline for the categorical variables**:\n",
    "1. Replace missing values with the mode.\n",
    "2. Apply OneHotEncoding."
   ]
  },
  {
   "cell_type": "markdown",
   "metadata": {},
   "source": [
    "**Note**\n",
    "1. I believe that is worth removing the entire *Cabin* feature (not including it in the pipeline).\n",
    "2. I believe it is worth replacing *Age* missing values with the mean.\n",
    "3. I believe it is worth replacing *Embarked* missing values with the mode."
   ]
  },
  {
   "cell_type": "code",
   "execution_count": 19,
   "metadata": {
    "execution": {
     "iopub.execute_input": "2021-12-26T12:16:55.601850Z",
     "iopub.status.busy": "2021-12-26T12:16:55.601558Z",
     "iopub.status.idle": "2021-12-26T12:16:55.609610Z",
     "shell.execute_reply": "2021-12-26T12:16:55.608563Z",
     "shell.execute_reply.started": "2021-12-26T12:16:55.601810Z"
    }
   },
   "outputs": [],
   "source": [
    "from sklearn.pipeline import Pipeline\n",
    "from sklearn.impute import SimpleImputer\n",
    "from sklearn.preprocessing import StandardScaler\n",
    "\n",
    "num_pipeline = Pipeline([\n",
    "    # replace missing values with the mean\n",
    "    (\"imputer\", SimpleImputer(strategy=\"mean\")),\n",
    "    # apply standardization\n",
    "    (\"scaler\", StandardScaler())\n",
    "])\n",
    "\n",
    "# create a pipeline for the categorical features\n",
    "from sklearn.preprocessing import OneHotEncoder\n",
    "\n",
    "cat_pipeline = Pipeline([\n",
    "    # replace missing values with the mode\n",
    "    (\"imputer\", SimpleImputer(strategy=\"most_frequent\")),\n",
    "    # convert categorical features into numerical using OneHotEncoding\n",
    "    (\"cat_encoder\", OneHotEncoder(sparse=False)),\n",
    "])\n",
    "\n",
    "from sklearn.compose import ColumnTransformer\n",
    "\n",
    "# numerical features\n",
    "num_attribs = [\"Age\", \"SibSp\", \"Parch\", \"Fare\"]\n",
    "# categorical features\n",
    "cat_attribs = [\"Pclass\", \"Sex\", \"Embarked\"]\n",
    "\n",
    "# join the two pipelines together\n",
    "preprocess_pipeline = ColumnTransformer([\n",
    "    (\"num\", num_pipeline, num_attribs),\n",
    "    (\"cat\", cat_pipeline, cat_attribs),\n",
    "])"
   ]
  },
  {
   "cell_type": "code",
   "execution_count": 20,
   "metadata": {
    "execution": {
     "iopub.execute_input": "2021-12-26T12:21:14.906919Z",
     "iopub.status.busy": "2021-12-26T12:21:14.906151Z",
     "iopub.status.idle": "2021-12-26T12:21:14.932867Z",
     "shell.execute_reply": "2021-12-26T12:21:14.932281Z",
     "shell.execute_reply.started": "2021-12-26T12:21:14.906883Z"
    }
   },
   "outputs": [],
   "source": [
    "# apply our pipeline to training data\n",
    "X_train = preprocess_pipeline.fit_transform(train_data[num_attribs + cat_attribs])\n",
    "\n",
    "# assign our target variable\n",
    "y_train = train_data[\"Survived\"]"
   ]
  },
  {
   "cell_type": "markdown",
   "metadata": {
    "execution": {
     "iopub.execute_input": "2021-12-25T21:49:06.319547Z",
     "iopub.status.busy": "2021-12-25T21:49:06.319251Z",
     "iopub.status.idle": "2021-12-25T21:49:06.413034Z",
     "shell.execute_reply": "2021-12-25T21:49:06.41183Z",
     "shell.execute_reply.started": "2021-12-25T21:49:06.319518Z"
    }
   },
   "source": [
    "<a name=\"SelectTrain\"> </a>\n",
    "# Select and Train Models\n",
    "1. Decision Tree\n",
    "2. Random Forest\n",
    "3. Gradient Boosting\n",
    "4. Support Vector Machine"
   ]
  },
  {
   "cell_type": "markdown",
   "metadata": {},
   "source": [
    "## Decision Tree"
   ]
  },
  {
   "cell_type": "code",
   "execution_count": 21,
   "metadata": {
    "execution": {
     "iopub.execute_input": "2021-12-26T12:23:43.499057Z",
     "iopub.status.busy": "2021-12-26T12:23:43.498507Z",
     "iopub.status.idle": "2021-12-26T12:23:43.542568Z",
     "shell.execute_reply": "2021-12-26T12:23:43.541954Z",
     "shell.execute_reply.started": "2021-12-26T12:23:43.499023Z"
    }
   },
   "outputs": [
    {
     "data": {
      "text/plain": [
       "0.7777528089887641"
      ]
     },
     "execution_count": 21,
     "metadata": {},
     "output_type": "execute_result"
    }
   ],
   "source": [
    "from sklearn.tree import DecisionTreeClassifier\n",
    "\n",
    "# create an instance\n",
    "dt_clf = DecisionTreeClassifier(random_state=42)\n",
    "\n",
    "# fit model with training data\n",
    "dt_clf.fit(X_train, y_train)\n",
    "\n",
    "# accuracy score using Cross-Validation\n",
    "from sklearn.model_selection import cross_val_score, StratifiedKFold\n",
    "\n",
    "skf = StratifiedKFold(n_splits=10, shuffle=True, random_state=42)\n",
    "\n",
    "scores_dt = cross_val_score(dt_clf, X_train, y_train,\n",
    "                            scoring='accuracy', cv=skf)\n",
    "\n",
    "np.mean(scores_dt)"
   ]
  },
  {
   "cell_type": "code",
   "execution_count": 22,
   "metadata": {
    "execution": {
     "iopub.execute_input": "2021-12-26T12:24:47.351407Z",
     "iopub.status.busy": "2021-12-26T12:24:47.350706Z",
     "iopub.status.idle": "2021-12-26T12:24:47.395658Z",
     "shell.execute_reply": "2021-12-26T12:24:47.394935Z",
     "shell.execute_reply.started": "2021-12-26T12:24:47.351368Z"
    }
   },
   "outputs": [
    {
     "data": {
      "text/plain": [
       "array([[458,  91],\n",
       "       [100, 242]], dtype=int64)"
      ]
     },
     "execution_count": 22,
     "metadata": {},
     "output_type": "execute_result"
    }
   ],
   "source": [
    "from sklearn.metrics import confusion_matrix\n",
    "from sklearn.model_selection import cross_val_predict\n",
    "\n",
    "y_train_pred = cross_val_predict(dt_clf, X_train, y_train, cv=10)\n",
    "conf_mx = confusion_matrix(y_train, y_train_pred)\n",
    "conf_mx"
   ]
  },
  {
   "cell_type": "markdown",
   "metadata": {},
   "source": [
    "## Random Forest"
   ]
  },
  {
   "cell_type": "code",
   "execution_count": 23,
   "metadata": {
    "execution": {
     "iopub.execute_input": "2021-12-26T12:25:46.350150Z",
     "iopub.status.busy": "2021-12-26T12:25:46.349903Z",
     "iopub.status.idle": "2021-12-26T12:25:48.930827Z",
     "shell.execute_reply": "2021-12-26T12:25:48.929954Z",
     "shell.execute_reply.started": "2021-12-26T12:25:46.350125Z"
    }
   },
   "outputs": [
    {
     "data": {
      "text/plain": [
       "0.8114357053682897"
      ]
     },
     "execution_count": 23,
     "metadata": {},
     "output_type": "execute_result"
    }
   ],
   "source": [
    "from sklearn.ensemble import RandomForestClassifier\n",
    "\n",
    "# create an instance\n",
    "rf_clf = RandomForestClassifier()\n",
    "\n",
    "# fit model with training data\n",
    "rf_clf.fit(X_train, y_train)\n",
    "\n",
    "skf = StratifiedKFold(n_splits=10, shuffle=True, random_state=42)\n",
    "\n",
    "scores_rf = cross_val_score(rf_clf, X_train, y_train,\n",
    "                            scoring='accuracy', cv=skf)\n",
    "\n",
    "np.mean(scores_rf)"
   ]
  },
  {
   "cell_type": "code",
   "execution_count": 24,
   "metadata": {
    "execution": {
     "iopub.execute_input": "2021-12-26T12:26:16.332696Z",
     "iopub.status.busy": "2021-12-26T12:26:16.332004Z",
     "iopub.status.idle": "2021-12-26T12:26:18.695234Z",
     "shell.execute_reply": "2021-12-26T12:26:18.694431Z",
     "shell.execute_reply.started": "2021-12-26T12:26:16.332654Z"
    }
   },
   "outputs": [
    {
     "data": {
      "text/plain": [
       "array([[467,  82],\n",
       "       [ 96, 246]], dtype=int64)"
      ]
     },
     "execution_count": 24,
     "metadata": {},
     "output_type": "execute_result"
    }
   ],
   "source": [
    "y_train_pred_rf = cross_val_predict(rf_clf, X_train, y_train, cv=10)\n",
    "conf_mx_rf = confusion_matrix(y_train, y_train_pred_rf)\n",
    "conf_mx_rf"
   ]
  },
  {
   "cell_type": "markdown",
   "metadata": {},
   "source": [
    "## Gradient Boosting"
   ]
  },
  {
   "cell_type": "code",
   "execution_count": 35,
   "metadata": {},
   "outputs": [
    {
     "data": {
      "text/plain": [
       "0.826067415730337"
      ]
     },
     "execution_count": 35,
     "metadata": {},
     "output_type": "execute_result"
    }
   ],
   "source": [
    "from sklearn.ensemble import GradientBoostingClassifier\n",
    "\n",
    "gb_clf = GradientBoostingClassifier()\n",
    "gb_scores = cross_val_score(gb_clf, X_train, y_train, cv=10)\n",
    "gb_scores.mean()"
   ]
  },
  {
   "cell_type": "code",
   "execution_count": 39,
   "metadata": {},
   "outputs": [
    {
     "data": {
      "text/plain": [
       "GridSearchCV(cv=10, estimator=GradientBoostingClassifier(),\n",
       "             param_grid=[{'learning_rate': [0.01, 0.1, 1],\n",
       "                          'n_estimators': [10, 100, 150]}],\n",
       "             return_train_score=True, scoring='accuracy')"
      ]
     },
     "execution_count": 39,
     "metadata": {},
     "output_type": "execute_result"
    }
   ],
   "source": [
    "from sklearn.model_selection import GridSearchCV\n",
    "\n",
    "# hyperparameter optimization\n",
    "param_grid = [\n",
    "    {'learning_rate': [0.01, 0.1, 1],\n",
    "     'n_estimators': [10, 100, 150],\n",
    "    }\n",
    "]\n",
    "\n",
    "# set GS settings\n",
    "gs = GridSearchCV(gb_clf, param_grid, cv=10, scoring='accuracy', return_train_score=True)\n",
    "\n",
    "# fit GS to the training data\n",
    "gs.fit(X_train, y_train)"
   ]
  },
  {
   "cell_type": "code",
   "execution_count": 42,
   "metadata": {},
   "outputs": [
    {
     "data": {
      "text/plain": [
       "{'learning_rate': 0.1, 'n_estimators': 100}"
      ]
     },
     "execution_count": 42,
     "metadata": {},
     "output_type": "execute_result"
    }
   ],
   "source": [
    "# build the model using the best params\n",
    "gb_model = gs.best_estimator_\n",
    "\n",
    "# get the best parameters\n",
    "gs.best_params_"
   ]
  },
  {
   "cell_type": "code",
   "execution_count": 43,
   "metadata": {},
   "outputs": [
    {
     "data": {
      "text/plain": [
       "0.826067415730337"
      ]
     },
     "execution_count": 43,
     "metadata": {},
     "output_type": "execute_result"
    }
   ],
   "source": [
    "# cross-validate our final model\n",
    "model_gb_scores = cross_val_score(gb_model, X_train, y_train, cv=10)\n",
    "\n",
    "# print the mean accuracy\n",
    "model_gb_scores.mean()"
   ]
  },
  {
   "cell_type": "markdown",
   "metadata": {},
   "source": [
    "## Support Vector Machine"
   ]
  },
  {
   "cell_type": "code",
   "execution_count": 25,
   "metadata": {
    "execution": {
     "iopub.execute_input": "2021-12-26T12:26:55.655210Z",
     "iopub.status.busy": "2021-12-26T12:26:55.654962Z",
     "iopub.status.idle": "2021-12-26T12:26:55.839304Z",
     "shell.execute_reply": "2021-12-26T12:26:55.838509Z",
     "shell.execute_reply.started": "2021-12-26T12:26:55.655185Z"
    }
   },
   "outputs": [
    {
     "data": {
      "text/plain": [
       "0.8260549313358302"
      ]
     },
     "execution_count": 25,
     "metadata": {},
     "output_type": "execute_result"
    }
   ],
   "source": [
    "from sklearn.svm import SVC\n",
    "\n",
    "svm_clf = SVC(gamma=\"auto\")\n",
    "svm_scores = cross_val_score(svm_clf, X_train, y_train, cv=10)\n",
    "svm_scores.mean()"
   ]
  },
  {
   "cell_type": "code",
   "execution_count": 26,
   "metadata": {
    "execution": {
     "iopub.execute_input": "2021-12-26T12:27:37.239129Z",
     "iopub.status.busy": "2021-12-26T12:27:37.238851Z",
     "iopub.status.idle": "2021-12-26T12:27:37.425054Z",
     "shell.execute_reply": "2021-12-26T12:27:37.424284Z",
     "shell.execute_reply.started": "2021-12-26T12:27:37.239099Z"
    }
   },
   "outputs": [
    {
     "data": {
      "text/plain": [
       "array([[491,  58],\n",
       "       [ 97, 245]], dtype=int64)"
      ]
     },
     "execution_count": 26,
     "metadata": {},
     "output_type": "execute_result"
    }
   ],
   "source": [
    "y_train_pred_svm = cross_val_predict(svm_clf, X_train, y_train, cv=10)\n",
    "conf_mx_svm = confusion_matrix(y_train, y_train_pred_svm)\n",
    "conf_mx_svm"
   ]
  },
  {
   "cell_type": "markdown",
   "metadata": {},
   "source": [
    "<a name=\"GS\"> </a>\n",
    "# Hyperparameter Optimization"
   ]
  },
  {
   "cell_type": "code",
   "execution_count": 28,
   "metadata": {
    "execution": {
     "iopub.execute_input": "2021-12-26T12:42:28.693483Z",
     "iopub.status.busy": "2021-12-26T12:42:28.692632Z",
     "iopub.status.idle": "2021-12-26T13:00:03.229362Z",
     "shell.execute_reply": "2021-12-26T13:00:03.228636Z",
     "shell.execute_reply.started": "2021-12-26T12:42:28.693428Z"
    }
   },
   "outputs": [
    {
     "data": {
      "text/plain": [
       "GridSearchCV(cv=10, estimator=SVC(),\n",
       "             param_grid=[{'C': [0.01, 0.1, 1, 10], 'kernel': ['linear']},\n",
       "                         {'C': [0.01, 0.1, 1, 10], 'gamma': [0.01, 0.1, 1],\n",
       "                          'kernel': ['rbf']},\n",
       "                         {'C': [0.01, 0.1, 1, 10], 'degree': [2, 4, 6],\n",
       "                          'gamma': [0.01, 0.1, 1], 'kernel': ['poly']},\n",
       "                         {'C': [0.01, 0.1, 1, 10], 'gamma': [0.01, 0.1, 1],\n",
       "                          'kernel': ['sigmoid']}],\n",
       "             return_train_score=True, scoring='accuracy')"
      ]
     },
     "execution_count": 28,
     "metadata": {},
     "output_type": "execute_result"
    }
   ],
   "source": [
    "from sklearn.model_selection import GridSearchCV\n",
    "\n",
    "# hyperparameter optimization\n",
    "param_grid = [\n",
    "    {'C': [0.01, 0.1, 1, 10], 'kernel': ['linear']},\n",
    "    {'C': [0.01, 0.1, 1, 10], 'kernel': ['rbf'], 'gamma': [0.01, 0.1, 1]},\n",
    "    {'C': [0.01, 0.1, 1, 10], 'kernel': ['poly'], 'degree': [2, 4, 6], 'gamma': [0.01, 0.1, 1]},\n",
    "    {'C': [0.01, 0.1, 1, 10], 'kernel': ['sigmoid'], 'gamma': [0.01, 0.1, 1]}\n",
    "]\n",
    "\n",
    "# create an instance\n",
    "svm_clf = SVC()\n",
    "\n",
    "# set GS settings\n",
    "gs = GridSearchCV(svm_clf, param_grid, cv=10, scoring='accuracy', return_train_score=True)\n",
    "\n",
    "# fit GS to the training data\n",
    "gs.fit(X_train, y_train)"
   ]
  },
  {
   "cell_type": "code",
   "execution_count": 29,
   "metadata": {
    "execution": {
     "iopub.execute_input": "2021-12-26T13:04:37.187430Z",
     "iopub.status.busy": "2021-12-26T13:04:37.186942Z",
     "iopub.status.idle": "2021-12-26T13:04:37.193487Z",
     "shell.execute_reply": "2021-12-26T13:04:37.192658Z",
     "shell.execute_reply.started": "2021-12-26T13:04:37.187395Z"
    }
   },
   "outputs": [
    {
     "data": {
      "text/plain": [
       "{'C': 10, 'gamma': 0.1, 'kernel': 'rbf'}"
      ]
     },
     "execution_count": 29,
     "metadata": {},
     "output_type": "execute_result"
    }
   ],
   "source": [
    "# build the model using the best params\n",
    "final_model = gs.best_estimator_\n",
    "\n",
    "# get the best parameters\n",
    "gs.best_params_"
   ]
  },
  {
   "cell_type": "code",
   "execution_count": 30,
   "metadata": {
    "execution": {
     "iopub.execute_input": "2021-12-26T13:05:06.498968Z",
     "iopub.status.busy": "2021-12-26T13:05:06.498196Z",
     "iopub.status.idle": "2021-12-26T13:05:06.730096Z",
     "shell.execute_reply": "2021-12-26T13:05:06.729263Z",
     "shell.execute_reply.started": "2021-12-26T13:05:06.498905Z"
    }
   },
   "outputs": [
    {
     "data": {
      "text/plain": [
       "0.8294382022471909"
      ]
     },
     "execution_count": 30,
     "metadata": {},
     "output_type": "execute_result"
    }
   ],
   "source": [
    "# cross-validate our final model\n",
    "final_model_scores = cross_val_score(final_model, X_train, y_train, cv=10)\n",
    "\n",
    "# print the mean accuracy\n",
    "final_model_scores.mean()"
   ]
  },
  {
   "cell_type": "code",
   "execution_count": 31,
   "metadata": {
    "execution": {
     "iopub.execute_input": "2021-12-26T13:05:44.235721Z",
     "iopub.status.busy": "2021-12-26T13:05:44.235083Z",
     "iopub.status.idle": "2021-12-26T13:05:44.461959Z",
     "shell.execute_reply": "2021-12-26T13:05:44.461187Z",
     "shell.execute_reply.started": "2021-12-26T13:05:44.235666Z"
    }
   },
   "outputs": [
    {
     "data": {
      "text/plain": [
       "array([[513,  36],\n",
       "       [116, 226]], dtype=int64)"
      ]
     },
     "execution_count": 31,
     "metadata": {},
     "output_type": "execute_result"
    }
   ],
   "source": [
    "# print the confusion matrix\n",
    "y_train_pred_final = cross_val_predict(final_model, X_train, y_train, cv=10)\n",
    "conf_mx_svm = confusion_matrix(y_train, y_train_pred_final)\n",
    "conf_mx_svm"
   ]
  },
  {
   "cell_type": "code",
   "execution_count": 32,
   "metadata": {
    "execution": {
     "iopub.execute_input": "2021-12-26T13:06:24.168276Z",
     "iopub.status.busy": "2021-12-26T13:06:24.167779Z",
     "iopub.status.idle": "2021-12-26T13:06:24.185826Z",
     "shell.execute_reply": "2021-12-26T13:06:24.184983Z",
     "shell.execute_reply.started": "2021-12-26T13:06:24.168232Z"
    }
   },
   "outputs": [],
   "source": [
    "# predict on test data\n",
    "X_test = preprocess_pipeline.transform(test_data[num_attribs + cat_attribs])\n",
    "\n",
    "final_predictions = final_model.predict(X_test)"
   ]
  },
  {
   "cell_type": "markdown",
   "metadata": {},
   "source": [
    "Construct a DataFrame as required by Kaggle."
   ]
  },
  {
   "cell_type": "code",
   "execution_count": 34,
   "metadata": {
    "execution": {
     "iopub.execute_input": "2021-12-26T13:08:36.130712Z",
     "iopub.status.busy": "2021-12-26T13:08:36.129886Z",
     "iopub.status.idle": "2021-12-26T13:08:36.138123Z",
     "shell.execute_reply": "2021-12-26T13:08:36.137580Z",
     "shell.execute_reply.started": "2021-12-26T13:08:36.130674Z"
    }
   },
   "outputs": [
    {
     "name": "stdout",
     "output_type": "stream",
     "text": [
      "Your submission was successfully saved!\n"
     ]
    }
   ],
   "source": [
    "output = pd.DataFrame({'PassengerId': test_data.index, 'Survived': final_predictions})\n",
    "output.to_csv('submission_titanic_svm.csv', index=False)\n",
    "print(\"Your submission was successfully saved!\")"
   ]
  }
 ],
 "metadata": {
  "kernelspec": {
   "display_name": "Python 3 (ipykernel)",
   "language": "python",
   "name": "python3"
  },
  "language_info": {
   "codemirror_mode": {
    "name": "ipython",
    "version": 3
   },
   "file_extension": ".py",
   "mimetype": "text/x-python",
   "name": "python",
   "nbconvert_exporter": "python",
   "pygments_lexer": "ipython3",
   "version": "3.9.7"
  }
 },
 "nbformat": 4,
 "nbformat_minor": 4
}
